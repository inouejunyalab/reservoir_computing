{
 "cells": [
  {
   "cell_type": "code",
   "execution_count": 65,
   "metadata": {},
   "outputs": [
    {
     "name": "stdout",
     "output_type": "stream",
     "text": [
      "iter: 0, error: 0.90612601848329\n",
      "iter: 10000, error: 0.005758500108815895\n",
      "iter: 20000, error: 0.0022258747312805262\n",
      "iter: 30000, error: 0.001356859912517364\n",
      "iter: 40000, error: 0.000970556048634159\n",
      "iter: 50000, error: 0.0007535276849016954\n"
     ]
    }
   ],
   "source": [
    "import numpy as np\n",
    "\n",
    "# sigmoid関数\n",
    "def sigmoid(x,deriv=False):\n",
    "    return 1/(1+np.exp(-x))\n",
    "\n",
    "# input\n",
    "X = np.array([[0,0,1],\n",
    "            [0,1,1],\n",
    "            [1,0,1],\n",
    "            [1,1,1]])\n",
    "\n",
    "# output\n",
    "y = np.array([[0],\n",
    "            [1],\n",
    "            [1],\n",
    "            [0]])\n",
    "\n",
    "np.random.seed(1)\n",
    "\n",
    "# weight 初期化\n",
    "syn0 = 2*np.random.random((3,4))\n",
    "syn1 = 2*np.random.random((4,1))\n",
    "\n",
    "# 学習率\n",
    "lr = 0.1\n",
    "for j in range(60000):\n",
    "\n",
    "    #  Feedforward\n",
    "    l0 = X\n",
    "    l1 = sigmoid(np.dot(l0,syn0))\n",
    "    l2 = sigmoid(np.dot(l1,syn1))\n",
    "\n",
    "    # 誤差関数の定義\n",
    "    l2_error = 0.5 * np.sum(np.power(y-l2,2))\n",
    "    if (j% 10000) == 0:\n",
    "        print (f\"iter: {j}, error: {l2_error}\")\n",
    "        \n",
    "    # Backpropagation\n",
    "    \n",
    "    # syn1の更新\n",
    "    l2_delta = (y-l2)*l2*(1-l2)\n",
    "    syn1 += lr * l1.T.dot(l2_delta)\n",
    "    \n",
    "    # syn0の更新\n",
    "    l1_error = l2_delta.dot(syn1.T) \n",
    "    l1_delta = l1_error * l1*(1-l1)\n",
    "    syn0 += lr* l0.T.dot(l1_delta)"
   ]
  },
  {
   "cell_type": "code",
   "execution_count": 69,
   "metadata": {},
   "outputs": [
    {
     "name": "stdout",
     "output_type": "stream",
     "text": [
      "output: \n",
      "[[0]\n",
      " [1]\n",
      " [1]\n",
      " [0]]\n",
      "predict: \n",
      "[[0.00563991]\n",
      " [0.98158513]\n",
      " [0.98158835]\n",
      " [0.0228025 ]]\n"
     ]
    }
   ],
   "source": [
    "# 検証\n",
    "l0 = X\n",
    "l1 = sigmoid(np.dot(l0,syn0))\n",
    "l2 = sigmoid(np.dot(l1,syn1))\n",
    "print(f\"output: \\n{y}\")\n",
    "print(f\"predict: \\n{l2}\")"
   ]
  }
 ],
 "metadata": {
  "kernelspec": {
   "display_name": "Python 3",
   "language": "python",
   "name": "python3"
  },
  "language_info": {
   "codemirror_mode": {
    "name": "ipython",
    "version": 3
   },
   "file_extension": ".py",
   "mimetype": "text/x-python",
   "name": "python",
   "nbconvert_exporter": "python",
   "pygments_lexer": "ipython3",
   "version": "3.6.4"
  }
 },
 "nbformat": 4,
 "nbformat_minor": 2
}
