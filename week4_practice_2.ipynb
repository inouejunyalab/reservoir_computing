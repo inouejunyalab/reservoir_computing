{
 "cells": [
  {
   "cell_type": "code",
   "execution_count": 7,
   "metadata": {},
   "outputs": [],
   "source": [
    "import torch\n",
    "import torch.nn as nn\n",
    "import torch.optim as optim\n",
    "import numpy as np"
   ]
  },
  {
   "cell_type": "code",
   "execution_count": 20,
   "metadata": {},
   "outputs": [],
   "source": [
    "# input\n",
    "X = torch.Tensor([[0,0,1],\n",
    "            [0,1,1],\n",
    "            [1,0,1],\n",
    "            [1,1,1]])\n",
    "\n",
    "\n",
    "y = torch.Tensor([[0],\n",
    "            [1],\n",
    "            [1],\n",
    "            [0]])"
   ]
  },
  {
   "cell_type": "code",
   "execution_count": 26,
   "metadata": {},
   "outputs": [
    {
     "name": "stdout",
     "output_type": "stream",
     "text": [
      "tensor(0.2609, grad_fn=<MseLossBackward>)\n",
      "tensor(0.0010, grad_fn=<MseLossBackward>)\n",
      "tensor(0.0003, grad_fn=<MseLossBackward>)\n",
      "tensor(0.0002, grad_fn=<MseLossBackward>)\n",
      "tensor(0.0001, grad_fn=<MseLossBackward>)\n",
      "tensor(8.6181e-05, grad_fn=<MseLossBackward>)\n"
     ]
    }
   ],
   "source": [
    "# モデル定義\n",
    "model = nn.Sequential(nn.Linear(3,4, bias = False),\n",
    "                     nn.Sigmoid(),\n",
    "                     nn.Linear(4,1),\n",
    "                     nn.Sigmoid()\n",
    "                    )\n",
    "\n",
    "#　損失関数定義\n",
    "loss_fn = torch.nn.MSELoss()\n",
    "\n",
    "# 勾配法定義\n",
    "optimizer = optim.SGD(model.parameters(), lr = 0.1)\n",
    "\n",
    "# 学習\n",
    "for i in range(60000):\n",
    "    y_pred = model(X)　# 順伝播\n",
    "    loss = loss_fn(y_pred, y) #　損失計算\n",
    "    loss.backward() # 逆伝播の勾配計算\n",
    "    optimizer.step()　# パラメータ更新\n",
    "    optimizer.zero_grad() # 逆伝播の勾配の初期化\n",
    "    \n",
    "    #　計算過程出力\n",
    "    if i%10000 == 0:\n",
    "        print(loss)\n",
    "    "
   ]
  },
  {
   "cell_type": "code",
   "execution_count": 31,
   "metadata": {},
   "outputs": [
    {
     "name": "stdout",
     "output_type": "stream",
     "text": [
      "tensor([[0.],\n",
      "        [1.],\n",
      "        [1.],\n",
      "        [0.]])\n",
      "tensor([[0.0083],\n",
      "        [0.9938],\n",
      "        [0.9903],\n",
      "        [0.0085]], grad_fn=<SigmoidBackward>)\n"
     ]
    }
   ],
   "source": [
    "# 検証\n",
    "y_pred = model(X)\n",
    "print(y)\n",
    "print(y_pred)"
   ]
  },
  {
   "cell_type": "code",
   "execution_count": null,
   "metadata": {},
   "outputs": [],
   "source": []
  }
 ],
 "metadata": {
  "kernelspec": {
   "display_name": "Python 3",
   "language": "python",
   "name": "python3"
  },
  "language_info": {
   "codemirror_mode": {
    "name": "ipython",
    "version": 3
   },
   "file_extension": ".py",
   "mimetype": "text/x-python",
   "name": "python",
   "nbconvert_exporter": "python",
   "pygments_lexer": "ipython3",
   "version": "3.6.4"
  }
 },
 "nbformat": 4,
 "nbformat_minor": 2
}
